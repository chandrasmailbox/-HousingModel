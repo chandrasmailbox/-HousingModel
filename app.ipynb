{
  "metadata": {
    "kernelspec": {
      "name": "python",
      "display_name": "Python (Pyodide)",
      "language": "python"
    },
    "language_info": {
      "codemirror_mode": {
        "name": "python",
        "version": 3
      },
      "file_extension": ".py",
      "mimetype": "text/x-python",
      "name": "python",
      "nbconvert_exporter": "python",
      "pygments_lexer": "ipython3",
      "version": "3.8"
    }
  },
  "nbformat_minor": 5,
  "nbformat": 4,
  "cells": [
    {
      "id": "7c1e1dfd-dc44-4166-bc7d-2e874fafbcb1",
      "cell_type": "code",
      "source": "# Import the necessary libraries\nimport pandas as pd\nimport numpy as np\nfrom sklearn.model_selection import train_test_split\nfrom sklearn.linear_model import LinearRegression\nimport pickle\n\n# Load the housing data\ndata = pd.read_csv('housing_data.csv')\n\n# Explore the data\nprint(data.head())\nprint(data.info())\n\n# Preprocess the data\nX = data.drop('price', axis=1)\ny = data['price']\n\n# Split the data into training and testing sets\nX_train, X_test, y_train, y_test = train_test_split(X, y, test_size=0.2, random_state=42)\n\n# Train the linear regression model\nmodel = LinearRegression()\nmodel.fit(X_train, y_train)\n\n# Evaluate the model\ntrain_score = model.score(X_train, y_train)\ntest_score = model.score(X_test, y_test)\nprint(f'Training R-squared: {train_score:.2f}')\nprint(f'Testing R-squared: {test_score:.2f}')\n\n# Save the trained model\nwith open('model.pkl', 'wb') as f:\n    pickle.dump(model, f)",
      "metadata": {
        "trusted": true
      },
      "outputs": [
        {
          "name": "stdout",
          "text": "   feature1  feature2  feature3   price\n0     45.21     87.34        18  175.64\n1     52.14     65.78        22  209.87\n2     48.92     73.21        20  193.45\n3     55.03     92.16        24  238.76\n4     49.67     82.59        19  201.34\n<class 'pandas.core.frame.DataFrame'>\nRangeIndex: 10 entries, 0 to 9\nData columns (total 4 columns):\n #   Column    Non-Null Count  Dtype  \n---  ------    --------------  -----  \n 0   feature1  10 non-null     float64\n 1   feature2  10 non-null     float64\n 2   feature3  10 non-null     int64  \n 3   price     10 non-null     float64\ndtypes: float64(3), int64(1)\nmemory usage: 392.0 bytes\nNone\nTraining R-squared: 0.99\nTesting R-squared: 0.87\n",
          "output_type": "stream"
        }
      ],
      "execution_count": 8
    }
  ]
}